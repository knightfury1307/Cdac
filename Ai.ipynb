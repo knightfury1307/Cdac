{
 "cells": [
  {
   "cell_type": "code",
   "execution_count": 1,
   "id": "b44f72a8",
   "metadata": {},
   "outputs": [],
   "source": [
    "def check(str1):\n",
    "    count=0\n",
    "    if str1[0] != \"0\":\n",
    "        return \"Reject\",\"\"\n",
    "    for i in str1:\n",
    "        if i == \"0\":\n",
    "            count=count+1\n",
    "        else :\n",
    "            break\n",
    "    for i in range(count , 2*count):\n",
    "        if str1[i] != \"1\":\n",
    "            return \"Reject\",\"\"\n",
    "    for i in range(2*count , 3*count):\n",
    "        if str1[i] != \"2\":\n",
    "            return \"Reject\",\"\"\n",
    "    if len(str1)>3*count:\n",
    "        for i in range(3*count , len(str1)):\n",
    "            if str1[i] != \" \":\n",
    "                return \"Reject\" , \"\"\n",
    "    ans = \"a\"*count + \"b\"*count+\"c\"*count\n",
    "    return \"Accepted :\" , ans"
   ]
  },
  {
   "cell_type": "code",
   "execution_count": 2,
   "id": "ffd2545a",
   "metadata": {},
   "outputs": [
    {
     "name": "stdout",
     "output_type": "stream",
     "text": [
      "Enter a String of 0/1/2:0001112222\n",
      "Reject \n"
     ]
    }
   ],
   "source": [
    "ans=\"\"\n",
    "str1 = input(\"Enter a String of 0/1/2:\")\n",
    "ans , str2 = check(str1)\n",
    "print(ans,str2)"
   ]
  },
  {
   "cell_type": "code",
   "execution_count": null,
   "id": "33ec2dcc",
   "metadata": {},
   "outputs": [],
   "source": []
  }
 ],
 "metadata": {
  "kernelspec": {
   "display_name": "Python 3 (ipykernel)",
   "language": "python",
   "name": "python3"
  },
  "language_info": {
   "codemirror_mode": {
    "name": "ipython",
    "version": 3
   },
   "file_extension": ".py",
   "mimetype": "text/x-python",
   "name": "python",
   "nbconvert_exporter": "python",
   "pygments_lexer": "ipython3",
   "version": "3.9.12"
  }
 },
 "nbformat": 4,
 "nbformat_minor": 5
}
