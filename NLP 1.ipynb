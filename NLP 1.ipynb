{
 "cells": [
  {
   "cell_type": "code",
   "execution_count": 60,
   "id": "2b867203",
   "metadata": {},
   "outputs": [],
   "source": [
    "import nltk\n",
    "\n",
    "from nltk.tokenize import word_tokenize\n",
    "from nltk.tokenize import sent_tokenize"
   ]
  },
  {
   "cell_type": "code",
   "execution_count": 3,
   "id": "d9b9e31b",
   "metadata": {},
   "outputs": [],
   "source": [
    "sent = 'They told that their ages are 23, 25 and 29 respectively.'"
   ]
  },
  {
   "cell_type": "code",
   "execution_count": 6,
   "id": "fe8797fa",
   "metadata": {},
   "outputs": [
    {
     "data": {
      "text/plain": [
       "['They',\n",
       " 'told',\n",
       " 'that',\n",
       " 'their',\n",
       " 'ages',\n",
       " 'are',\n",
       " '23',\n",
       " ',',\n",
       " '25',\n",
       " 'and',\n",
       " '29',\n",
       " 'respectively',\n",
       " '.']"
      ]
     },
     "execution_count": 6,
     "metadata": {},
     "output_type": "execute_result"
    }
   ],
   "source": [
    "word = word_tokenize(sent)\n",
    "word"
   ]
  },
  {
   "cell_type": "code",
   "execution_count": 10,
   "id": "f95973b4",
   "metadata": {},
   "outputs": [],
   "source": [
    "sum1 = 0\n",
    "for i in word:\n",
    "    if i.isdigit():\n",
    "        sum1 +=int(i) \n",
    "        \n",
    "        "
   ]
  },
  {
   "cell_type": "code",
   "execution_count": 11,
   "id": "dbe3628e",
   "metadata": {},
   "outputs": [
    {
     "name": "stdout",
     "output_type": "stream",
     "text": [
      "77\n"
     ]
    }
   ],
   "source": [
    "print(sum1)"
   ]
  },
  {
   "cell_type": "code",
   "execution_count": 14,
   "id": "1d166265",
   "metadata": {},
   "outputs": [
    {
     "name": "stdout",
     "output_type": "stream",
     "text": [
      "They\n",
      "told\n",
      "that\n",
      "their\n"
     ]
    }
   ],
   "source": [
    "for i in word:\n",
    "    if i.startswith(('T','t')):\n",
    "        print(i) \n",
    "        "
   ]
  },
  {
   "cell_type": "code",
   "execution_count": 31,
   "id": "0588c53b",
   "metadata": {},
   "outputs": [],
   "source": [
    "c = 0\n",
    "for i in word:\n",
    "    if not i.isalpha() and not i.isdigit():\n",
    "        c = c+1 \n",
    "    "
   ]
  },
  {
   "cell_type": "code",
   "execution_count": 32,
   "id": "a3931522",
   "metadata": {},
   "outputs": [
    {
     "name": "stdout",
     "output_type": "stream",
     "text": [
      "2\n"
     ]
    }
   ],
   "source": [
    "print(c)"
   ]
  },
  {
   "cell_type": "code",
   "execution_count": 36,
   "id": "f63ad4a0",
   "metadata": {},
   "outputs": [
    {
     "name": "stdout",
     "output_type": "stream",
     "text": [
      "TOLD\n",
      "AND\n"
     ]
    }
   ],
   "source": [
    "for i in word:\n",
    "    if i.endswith('d'):\n",
    "        print(i.upper())\n",
    "        "
   ]
  },
  {
   "cell_type": "code",
   "execution_count": 39,
   "id": "1cd16e26",
   "metadata": {},
   "outputs": [
    {
     "name": "stdout",
     "output_type": "stream",
     "text": [
      "Theytoldthattheiragesare2325and29respectively"
     ]
    }
   ],
   "source": [
    "for i in word:\n",
    "    if i.isalpha() or i.isdigit():\n",
    "        print(i,sep =\"\",end=\"\") \n",
    "    "
   ]
  },
  {
   "cell_type": "code",
   "execution_count": 40,
   "id": "8ba9f0ba",
   "metadata": {},
   "outputs": [],
   "source": [
    "sent2 = \"\"\"The national flag of India, colloquially called Tiraṅgā (the tricolour), is a horizontal rectangular tricolour flag, the colours being of India saffron, white and India green; with the Ashoka Chakra, a 24-spoke wheel, in navy blue at its centre.[1][2] It was adopted in its present form during a meeting of the Constituent Assembly held on 22 July 1947, and it became the official flag of the Dominion of India on 15 August 1947. The flag was subsequently retained as that of the Republic of India. In India, the term \"tricolour\" almost always refers to the Indian national flag. The flag is based on the Swaraj flag, a flag of the Indian National Congress designed by Pingali Venkayya.[N 1]\n",
    "\n",
    "By law, the flag is to be made of khadi, a special type of hand-spun cloth or silk, made popular by Mahatma Gandhi. The manufacturing process and specifications for the flag are laid out by the Bureau of Indian Standards. The right to manufacture the flag is held by the Khadi Development and Village Industries Commission, which allocates it to regional groups. As of 2009, the Karnataka Khadi Gramodyoga Samyukta Sangha has been the sole manufacturer of the flag.\n",
    "\n",
    "Usage of the flag is governed by the Flag Code of India and other laws relating to the national emblems. The original code prohibited use of the flag by private citizens except on national days such as the Independence day and the Republic Day. In 2002, on hearing an appeal from a private citizen, Naveen Jindal, the Supreme Court of India directed the Government of India to amend the code to allow flag usage by private citizens. Subsequently, the Union Cabinet of India amended the code to allow limited usage. The code was amended once more in 2005 to allow some additional use including adaptations on certain forms of clothing. The flag code also governs the protocol of flying the flag and its use in conjunction with other national and non-national flags.\"\"\""
   ]
  },
  {
   "cell_type": "code",
   "execution_count": 41,
   "id": "5805bb5f",
   "metadata": {},
   "outputs": [],
   "source": [
    "w = word_tokenize(sent2)"
   ]
  },
  {
   "cell_type": "code",
   "execution_count": 42,
   "id": "8917dba1",
   "metadata": {},
   "outputs": [
    {
     "data": {
      "text/plain": [
       "['The',\n",
       " 'national',\n",
       " 'flag',\n",
       " 'of',\n",
       " 'India',\n",
       " ',',\n",
       " 'colloquially',\n",
       " 'called',\n",
       " 'Tiraṅgā',\n",
       " '(',\n",
       " 'the',\n",
       " 'tricolour',\n",
       " ')',\n",
       " ',',\n",
       " 'is',\n",
       " 'a',\n",
       " 'horizontal',\n",
       " 'rectangular',\n",
       " 'tricolour',\n",
       " 'flag',\n",
       " ',',\n",
       " 'the',\n",
       " 'colours',\n",
       " 'being',\n",
       " 'of',\n",
       " 'India',\n",
       " 'saffron',\n",
       " ',',\n",
       " 'white',\n",
       " 'and',\n",
       " 'India',\n",
       " 'green',\n",
       " ';',\n",
       " 'with',\n",
       " 'the',\n",
       " 'Ashoka',\n",
       " 'Chakra',\n",
       " ',',\n",
       " 'a',\n",
       " '24-spoke',\n",
       " 'wheel',\n",
       " ',',\n",
       " 'in',\n",
       " 'navy',\n",
       " 'blue',\n",
       " 'at',\n",
       " 'its',\n",
       " 'centre',\n",
       " '.',\n",
       " '[',\n",
       " '1',\n",
       " ']',\n",
       " '[',\n",
       " '2',\n",
       " ']',\n",
       " 'It',\n",
       " 'was',\n",
       " 'adopted',\n",
       " 'in',\n",
       " 'its',\n",
       " 'present',\n",
       " 'form',\n",
       " 'during',\n",
       " 'a',\n",
       " 'meeting',\n",
       " 'of',\n",
       " 'the',\n",
       " 'Constituent',\n",
       " 'Assembly',\n",
       " 'held',\n",
       " 'on',\n",
       " '22',\n",
       " 'July',\n",
       " '1947',\n",
       " ',',\n",
       " 'and',\n",
       " 'it',\n",
       " 'became',\n",
       " 'the',\n",
       " 'official',\n",
       " 'flag',\n",
       " 'of',\n",
       " 'the',\n",
       " 'Dominion',\n",
       " 'of',\n",
       " 'India',\n",
       " 'on',\n",
       " '15',\n",
       " 'August',\n",
       " '1947',\n",
       " '.',\n",
       " 'The',\n",
       " 'flag',\n",
       " 'was',\n",
       " 'subsequently',\n",
       " 'retained',\n",
       " 'as',\n",
       " 'that',\n",
       " 'of',\n",
       " 'the',\n",
       " 'Republic',\n",
       " 'of',\n",
       " 'India',\n",
       " '.',\n",
       " 'In',\n",
       " 'India',\n",
       " ',',\n",
       " 'the',\n",
       " 'term',\n",
       " '``',\n",
       " 'tricolour',\n",
       " \"''\",\n",
       " 'almost',\n",
       " 'always',\n",
       " 'refers',\n",
       " 'to',\n",
       " 'the',\n",
       " 'Indian',\n",
       " 'national',\n",
       " 'flag',\n",
       " '.',\n",
       " 'The',\n",
       " 'flag',\n",
       " 'is',\n",
       " 'based',\n",
       " 'on',\n",
       " 'the',\n",
       " 'Swaraj',\n",
       " 'flag',\n",
       " ',',\n",
       " 'a',\n",
       " 'flag',\n",
       " 'of',\n",
       " 'the',\n",
       " 'Indian',\n",
       " 'National',\n",
       " 'Congress',\n",
       " 'designed',\n",
       " 'by',\n",
       " 'Pingali',\n",
       " 'Venkayya',\n",
       " '.',\n",
       " '[',\n",
       " 'N',\n",
       " '1',\n",
       " ']',\n",
       " 'By',\n",
       " 'law',\n",
       " ',',\n",
       " 'the',\n",
       " 'flag',\n",
       " 'is',\n",
       " 'to',\n",
       " 'be',\n",
       " 'made',\n",
       " 'of',\n",
       " 'khadi',\n",
       " ',',\n",
       " 'a',\n",
       " 'special',\n",
       " 'type',\n",
       " 'of',\n",
       " 'hand-spun',\n",
       " 'cloth',\n",
       " 'or',\n",
       " 'silk',\n",
       " ',',\n",
       " 'made',\n",
       " 'popular',\n",
       " 'by',\n",
       " 'Mahatma',\n",
       " 'Gandhi',\n",
       " '.',\n",
       " 'The',\n",
       " 'manufacturing',\n",
       " 'process',\n",
       " 'and',\n",
       " 'specifications',\n",
       " 'for',\n",
       " 'the',\n",
       " 'flag',\n",
       " 'are',\n",
       " 'laid',\n",
       " 'out',\n",
       " 'by',\n",
       " 'the',\n",
       " 'Bureau',\n",
       " 'of',\n",
       " 'Indian',\n",
       " 'Standards',\n",
       " '.',\n",
       " 'The',\n",
       " 'right',\n",
       " 'to',\n",
       " 'manufacture',\n",
       " 'the',\n",
       " 'flag',\n",
       " 'is',\n",
       " 'held',\n",
       " 'by',\n",
       " 'the',\n",
       " 'Khadi',\n",
       " 'Development',\n",
       " 'and',\n",
       " 'Village',\n",
       " 'Industries',\n",
       " 'Commission',\n",
       " ',',\n",
       " 'which',\n",
       " 'allocates',\n",
       " 'it',\n",
       " 'to',\n",
       " 'regional',\n",
       " 'groups',\n",
       " '.',\n",
       " 'As',\n",
       " 'of',\n",
       " '2009',\n",
       " ',',\n",
       " 'the',\n",
       " 'Karnataka',\n",
       " 'Khadi',\n",
       " 'Gramodyoga',\n",
       " 'Samyukta',\n",
       " 'Sangha',\n",
       " 'has',\n",
       " 'been',\n",
       " 'the',\n",
       " 'sole',\n",
       " 'manufacturer',\n",
       " 'of',\n",
       " 'the',\n",
       " 'flag',\n",
       " '.',\n",
       " 'Usage',\n",
       " 'of',\n",
       " 'the',\n",
       " 'flag',\n",
       " 'is',\n",
       " 'governed',\n",
       " 'by',\n",
       " 'the',\n",
       " 'Flag',\n",
       " 'Code',\n",
       " 'of',\n",
       " 'India',\n",
       " 'and',\n",
       " 'other',\n",
       " 'laws',\n",
       " 'relating',\n",
       " 'to',\n",
       " 'the',\n",
       " 'national',\n",
       " 'emblems',\n",
       " '.',\n",
       " 'The',\n",
       " 'original',\n",
       " 'code',\n",
       " 'prohibited',\n",
       " 'use',\n",
       " 'of',\n",
       " 'the',\n",
       " 'flag',\n",
       " 'by',\n",
       " 'private',\n",
       " 'citizens',\n",
       " 'except',\n",
       " 'on',\n",
       " 'national',\n",
       " 'days',\n",
       " 'such',\n",
       " 'as',\n",
       " 'the',\n",
       " 'Independence',\n",
       " 'day',\n",
       " 'and',\n",
       " 'the',\n",
       " 'Republic',\n",
       " 'Day',\n",
       " '.',\n",
       " 'In',\n",
       " '2002',\n",
       " ',',\n",
       " 'on',\n",
       " 'hearing',\n",
       " 'an',\n",
       " 'appeal',\n",
       " 'from',\n",
       " 'a',\n",
       " 'private',\n",
       " 'citizen',\n",
       " ',',\n",
       " 'Naveen',\n",
       " 'Jindal',\n",
       " ',',\n",
       " 'the',\n",
       " 'Supreme',\n",
       " 'Court',\n",
       " 'of',\n",
       " 'India',\n",
       " 'directed',\n",
       " 'the',\n",
       " 'Government',\n",
       " 'of',\n",
       " 'India',\n",
       " 'to',\n",
       " 'amend',\n",
       " 'the',\n",
       " 'code',\n",
       " 'to',\n",
       " 'allow',\n",
       " 'flag',\n",
       " 'usage',\n",
       " 'by',\n",
       " 'private',\n",
       " 'citizens',\n",
       " '.',\n",
       " 'Subsequently',\n",
       " ',',\n",
       " 'the',\n",
       " 'Union',\n",
       " 'Cabinet',\n",
       " 'of',\n",
       " 'India',\n",
       " 'amended',\n",
       " 'the',\n",
       " 'code',\n",
       " 'to',\n",
       " 'allow',\n",
       " 'limited',\n",
       " 'usage',\n",
       " '.',\n",
       " 'The',\n",
       " 'code',\n",
       " 'was',\n",
       " 'amended',\n",
       " 'once',\n",
       " 'more',\n",
       " 'in',\n",
       " '2005',\n",
       " 'to',\n",
       " 'allow',\n",
       " 'some',\n",
       " 'additional',\n",
       " 'use',\n",
       " 'including',\n",
       " 'adaptations',\n",
       " 'on',\n",
       " 'certain',\n",
       " 'forms',\n",
       " 'of',\n",
       " 'clothing',\n",
       " '.',\n",
       " 'The',\n",
       " 'flag',\n",
       " 'code',\n",
       " 'also',\n",
       " 'governs',\n",
       " 'the',\n",
       " 'protocol',\n",
       " 'of',\n",
       " 'flying',\n",
       " 'the',\n",
       " 'flag',\n",
       " 'and',\n",
       " 'its',\n",
       " 'use',\n",
       " 'in',\n",
       " 'conjunction',\n",
       " 'with',\n",
       " 'other',\n",
       " 'national',\n",
       " 'and',\n",
       " 'non-national',\n",
       " 'flags',\n",
       " '.']"
      ]
     },
     "execution_count": 42,
     "metadata": {},
     "output_type": "execute_result"
    }
   ],
   "source": [
    "w"
   ]
  },
  {
   "cell_type": "code",
   "execution_count": 54,
   "id": "c9129c63",
   "metadata": {},
   "outputs": [],
   "source": [
    "s = 0\n",
    "for i in w:\n",
    "    if  i.isalpha():\n",
    "        s = s+1 \n",
    "    "
   ]
  },
  {
   "cell_type": "code",
   "execution_count": 55,
   "id": "d519e46a",
   "metadata": {},
   "outputs": [
    {
     "data": {
      "text/plain": [
       "319"
      ]
     },
     "execution_count": 55,
     "metadata": {},
     "output_type": "execute_result"
    }
   ],
   "source": [
    "s"
   ]
  },
  {
   "cell_type": "code",
   "execution_count": 58,
   "id": "04e757f0",
   "metadata": {},
   "outputs": [],
   "source": [
    "c = 0\n",
    "for i in w:\n",
    "    if not i.isalpha() and not i.isdigit():\n",
    "        c = c+1 "
   ]
  },
  {
   "cell_type": "code",
   "execution_count": 59,
   "id": "6ca0e081",
   "metadata": {},
   "outputs": [
    {
     "data": {
      "text/plain": [
       "12.5"
      ]
     },
     "execution_count": 59,
     "metadata": {},
     "output_type": "execute_result"
    }
   ],
   "source": [
    "(c/len(w))*100"
   ]
  },
  {
   "cell_type": "code",
   "execution_count": 62,
   "id": "f7ff0f3a",
   "metadata": {},
   "outputs": [],
   "source": [
    "sent = sent_tokenize(sent2)"
   ]
  },
  {
   "cell_type": "code",
   "execution_count": 64,
   "id": "9013b037",
   "metadata": {},
   "outputs": [
    {
     "data": {
      "text/plain": [
       "15"
      ]
     },
     "execution_count": 64,
     "metadata": {},
     "output_type": "execute_result"
    }
   ],
   "source": [
    "len(sent)"
   ]
  },
  {
   "cell_type": "code",
   "execution_count": 71,
   "id": "24d35393",
   "metadata": {},
   "outputs": [
    {
     "name": "stdout",
     "output_type": "stream",
     "text": [
      "The national flag of India , colloquially called Tiraṅgā ( the tricolour ) , is a horizontal rectangular tricolour flag , the colours being of India saffron , white and India green ; with the Ashoka Chakra , a 24-spoke wheel , in navy blue at its centre . [ ] [ ] It was adopted in its present form during a meeting of the Constituent Assembly held on July , and it became the official flag of the Dominion of India on August . The flag was subsequently retained as that of the Republic of India . In India , the term `` tricolour '' almost always refers to the Indian national flag . The flag is based on the Swaraj flag , a flag of the Indian National Congress designed by Pingali Venkayya . [ N ] By law , the flag is to be made of khadi , a special type of hand-spun cloth or silk , made popular by Mahatma Gandhi . The manufacturing process and specifications for the flag are laid out by the Bureau of Indian Standards . The right to manufacture the flag is held by the Khadi Development and Village Industries Commission , which allocates it to regional groups . As of , the Karnataka Khadi Gramodyoga Samyukta Sangha has been the sole manufacturer of the flag . Usage of the flag is governed by the Flag Code of India and other laws relating to the national emblems . The original code prohibited use of the flag by private citizens except on national days such as the Independence day and the Republic Day . In , on hearing an appeal from a private citizen , Naveen Jindal , the Supreme Court of India directed the Government of India to amend the code to allow flag usage by private citizens . Subsequently , the Union Cabinet of India amended the code to allow limited usage . The code was amended once more in to allow some additional use including adaptations on certain forms of clothing . The flag code also governs the protocol of flying the flag and its use in conjunction with other national and non-national flags . "
     ]
    }
   ],
   "source": [
    "for i in w:\n",
    "    if not i.isdigit():\n",
    "        print(i,end=\" \")"
   ]
  },
  {
   "cell_type": "code",
   "execution_count": 74,
   "id": "b7eb4333",
   "metadata": {},
   "outputs": [
    {
     "name": "stdout",
     "output_type": "stream",
     "text": [
      "The\n",
      "India\n",
      "Tiraṅgā\n",
      "India\n",
      "India\n",
      "Ashoka\n",
      "Chakra\n",
      "It\n",
      "Constituent\n",
      "Assembly\n",
      "July\n",
      "Dominion\n",
      "India\n",
      "August\n",
      "The\n",
      "Republic\n",
      "India\n",
      "In\n",
      "India\n",
      "Indian\n",
      "The\n",
      "Swaraj\n",
      "Indian\n",
      "National\n",
      "Congress\n",
      "Pingali\n",
      "Venkayya\n",
      "N\n",
      "By\n",
      "Mahatma\n",
      "Gandhi\n",
      "The\n",
      "Bureau\n",
      "Indian\n",
      "Standards\n",
      "The\n",
      "Khadi\n",
      "Development\n",
      "Village\n",
      "Industries\n",
      "Commission\n",
      "As\n",
      "Karnataka\n",
      "Khadi\n",
      "Gramodyoga\n",
      "Samyukta\n",
      "Sangha\n",
      "Usage\n",
      "Flag\n",
      "Code\n",
      "India\n",
      "The\n",
      "Independence\n",
      "Republic\n",
      "Day\n",
      "In\n",
      "Naveen\n",
      "Jindal\n",
      "Supreme\n",
      "Court\n",
      "India\n",
      "Government\n",
      "India\n",
      "Subsequently\n",
      "Union\n",
      "Cabinet\n",
      "India\n",
      "The\n",
      "The\n"
     ]
    }
   ],
   "source": [
    "\n",
    "for i in w:\n",
    "    if  i.istitle():\n",
    "        print(i) \n",
    "    "
   ]
  },
  {
   "cell_type": "code",
   "execution_count": null,
   "id": "6d664e02",
   "metadata": {},
   "outputs": [],
   "source": []
  }
 ],
 "metadata": {
  "kernelspec": {
   "display_name": "Python 3 (ipykernel)",
   "language": "python",
   "name": "python3"
  },
  "language_info": {
   "codemirror_mode": {
    "name": "ipython",
    "version": 3
   },
   "file_extension": ".py",
   "mimetype": "text/x-python",
   "name": "python",
   "nbconvert_exporter": "python",
   "pygments_lexer": "ipython3",
   "version": "3.9.12"
  }
 },
 "nbformat": 4,
 "nbformat_minor": 5
}
