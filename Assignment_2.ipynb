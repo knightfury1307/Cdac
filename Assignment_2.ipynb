{
 "cells": [
  {
   "cell_type": "code",
   "execution_count": 1,
   "id": "a88e47eb",
   "metadata": {},
   "outputs": [],
   "source": [
    "data = \"The National Aeronautics and Space Administration (NASA /ˈnæsə/) is an independent agency of the U.S. federal government responsible for the civil space program, aeronautics research, and space research. NASA was established in 1958, succeeding the National Advisory Committee for Aeronautics (NACA), to give the U.S. space development effort a distinctly civilian orientation, emphasizing peaceful applications in space science.[4][5][6] NASA has since led most American space exploration, including Project Mercury, Project Gemini, the 1968–1972 Apollo Moon landing missions, the Skylab space station, and the Space Shuttle. NASA supports the International Space Station and oversees the development of the Orion spacecraft and the Space Launch System for the crewed lunar Artemis program, Commercial Crew spacecraft, and the planned Lunar Gateway space station. The agency is also responsible for the Launch Services Program, which provides oversight of launch operations and countdown management for uncrewed NASA launches.NASA's science is focused on better understanding Earth through the Earth Observing System;[7] advancing heliophysics through the efforts of the Science Mission Directorate's Heliophysics Research Program;[8] exploring bodies throughout the Solar System with advanced robotic spacecraft such as New Horizons and planetary rovers such as Perseverance;[9] and researching astrophysics topics, such as the Big Bang, through the James Webb Space Telescope, and the Great Observatories and associated programs.\""
   ]
  },
  {
   "cell_type": "code",
   "execution_count": 2,
   "id": "48e58b17",
   "metadata": {},
   "outputs": [],
   "source": [
    "import nltk\n",
    "from nltk import word_tokenize"
   ]
  },
  {
   "cell_type": "code",
   "execution_count": 5,
   "id": "b430cfb3",
   "metadata": {},
   "outputs": [
    {
     "name": "stdout",
     "output_type": "stream",
     "text": [
      "showing info https://raw.githubusercontent.com/nltk/nltk_data/gh-pages/index.xml\n"
     ]
    },
    {
     "data": {
      "text/plain": [
       "True"
      ]
     },
     "execution_count": 5,
     "metadata": {},
     "output_type": "execute_result"
    }
   ],
   "source": [
    "nltk.download()"
   ]
  },
  {
   "cell_type": "markdown",
   "id": "227475f6",
   "metadata": {},
   "source": [
    "## 1"
   ]
  },
  {
   "cell_type": "code",
   "execution_count": 6,
   "id": "8a6e8b1e",
   "metadata": {},
   "outputs": [],
   "source": [
    "tokens = word_tokenize(data)\n",
    "tags = nltk.pos_tag(tokens)"
   ]
  },
  {
   "cell_type": "code",
   "execution_count": 7,
   "id": "4cbdbb1f",
   "metadata": {},
   "outputs": [
    {
     "name": "stdout",
     "output_type": "stream",
     "text": [
      "[('The', 'DT'), ('National', 'NNP'), ('Aeronautics', 'NNP'), ('and', 'CC'), ('Space', 'NNP'), ('Administration', 'NNP'), ('(', '('), ('NASA', 'NNP'), ('/ˈnæsə/', 'NNP'), (')', ')'), ('is', 'VBZ'), ('an', 'DT'), ('independent', 'JJ'), ('agency', 'NN'), ('of', 'IN'), ('the', 'DT'), ('U.S.', 'NNP'), ('federal', 'JJ'), ('government', 'NN'), ('responsible', 'JJ'), ('for', 'IN'), ('the', 'DT'), ('civil', 'JJ'), ('space', 'NN'), ('program', 'NN'), (',', ','), ('aeronautics', 'NNS'), ('research', 'NN'), (',', ','), ('and', 'CC'), ('space', 'NN'), ('research', 'NN'), ('.', '.'), ('NASA', 'NNP'), ('was', 'VBD'), ('established', 'VBN'), ('in', 'IN'), ('1958', 'CD'), (',', ','), ('succeeding', 'VBG'), ('the', 'DT'), ('National', 'NNP'), ('Advisory', 'NNP'), ('Committee', 'NNP'), ('for', 'IN'), ('Aeronautics', 'NNP'), ('(', '('), ('NACA', 'NNP'), (')', ')'), (',', ','), ('to', 'TO'), ('give', 'VB'), ('the', 'DT'), ('U.S.', 'NNP'), ('space', 'NN'), ('development', 'NN'), ('effort', 'NN'), ('a', 'DT'), ('distinctly', 'RB'), ('civilian', 'JJ'), ('orientation', 'NN'), (',', ','), ('emphasizing', 'VBG'), ('peaceful', 'JJ'), ('applications', 'NNS'), ('in', 'IN'), ('space', 'NN'), ('science', 'NN'), ('.', '.'), ('[', 'CC'), ('4', 'CD'), (']', 'JJ'), ('[', '$'), ('5', 'CD'), (']', 'NNP'), ('[', 'VBD'), ('6', 'CD'), (']', 'NNP'), ('NASA', 'NNP'), ('has', 'VBZ'), ('since', 'IN'), ('led', 'VBN'), ('most', 'JJS'), ('American', 'JJ'), ('space', 'NN'), ('exploration', 'NN'), (',', ','), ('including', 'VBG'), ('Project', 'NNP'), ('Mercury', 'NNP'), (',', ','), ('Project', 'NNP'), ('Gemini', 'NNP'), (',', ','), ('the', 'DT'), ('1968–1972', 'CD'), ('Apollo', 'NNP'), ('Moon', 'NNP'), ('landing', 'VBG'), ('missions', 'NNS'), (',', ','), ('the', 'DT'), ('Skylab', 'NNP'), ('space', 'NN'), ('station', 'NN'), (',', ','), ('and', 'CC'), ('the', 'DT'), ('Space', 'NNP'), ('Shuttle', 'NNP'), ('.', '.'), ('NASA', 'NNP'), ('supports', 'VBZ'), ('the', 'DT'), ('International', 'NNP'), ('Space', 'NNP'), ('Station', 'NNP'), ('and', 'CC'), ('oversees', 'VBZ'), ('the', 'DT'), ('development', 'NN'), ('of', 'IN'), ('the', 'DT'), ('Orion', 'NNP'), ('spacecraft', 'NN'), ('and', 'CC'), ('the', 'DT'), ('Space', 'NNP'), ('Launch', 'NNP'), ('System', 'NNP'), ('for', 'IN'), ('the', 'DT'), ('crewed', 'JJ'), ('lunar', 'JJ'), ('Artemis', 'NNP'), ('program', 'NN'), (',', ','), ('Commercial', 'NNP'), ('Crew', 'NNP'), ('spacecraft', 'NN'), (',', ','), ('and', 'CC'), ('the', 'DT'), ('planned', 'VBN'), ('Lunar', 'NNP'), ('Gateway', 'NNP'), ('space', 'NN'), ('station', 'NN'), ('.', '.'), ('The', 'DT'), ('agency', 'NN'), ('is', 'VBZ'), ('also', 'RB'), ('responsible', 'JJ'), ('for', 'IN'), ('the', 'DT'), ('Launch', 'NNP'), ('Services', 'NNPS'), ('Program', 'NNP'), (',', ','), ('which', 'WDT'), ('provides', 'VBZ'), ('oversight', 'NN'), ('of', 'IN'), ('launch', 'JJ'), ('operations', 'NNS'), ('and', 'CC'), ('countdown', 'JJ'), ('management', 'NN'), ('for', 'IN'), ('uncrewed', 'JJ'), ('NASA', 'NNP'), ('launches.NASA', 'NN'), (\"'s\", 'POS'), ('science', 'NN'), ('is', 'VBZ'), ('focused', 'VBN'), ('on', 'IN'), ('better', 'JJR'), ('understanding', 'NN'), ('Earth', 'NNP'), ('through', 'IN'), ('the', 'DT'), ('Earth', 'NNP'), ('Observing', 'NNP'), ('System', 'NNP'), (';', ':'), ('[', 'VBZ'), ('7', 'CD'), (']', 'NN'), ('advancing', 'VBG'), ('heliophysics', 'NNS'), ('through', 'IN'), ('the', 'DT'), ('efforts', 'NNS'), ('of', 'IN'), ('the', 'DT'), ('Science', 'NNP'), ('Mission', 'NNP'), ('Directorate', 'NNP'), (\"'s\", 'POS'), ('Heliophysics', 'NNP'), ('Research', 'NNP'), ('Program', 'NNP'), (';', ':'), ('[', 'VBZ'), ('8', 'CD'), (']', 'NN'), ('exploring', 'VBG'), ('bodies', 'NNS'), ('throughout', 'IN'), ('the', 'DT'), ('Solar', 'NNP'), ('System', 'NNP'), ('with', 'IN'), ('advanced', 'JJ'), ('robotic', 'JJ'), ('spacecraft', 'NN'), ('such', 'JJ'), ('as', 'IN'), ('New', 'NNP'), ('Horizons', 'NNP'), ('and', 'CC'), ('planetary', 'JJ'), ('rovers', 'NNS'), ('such', 'JJ'), ('as', 'IN'), ('Perseverance', 'NNP'), (';', ':'), ('[', 'VBZ'), ('9', 'CD'), (']', 'NN'), ('and', 'CC'), ('researching', 'VBG'), ('astrophysics', 'NNS'), ('topics', 'NNS'), (',', ','), ('such', 'JJ'), ('as', 'IN'), ('the', 'DT'), ('Big', 'NNP'), ('Bang', 'NNP'), (',', ','), ('through', 'IN'), ('the', 'DT'), ('James', 'NNP'), ('Webb', 'NNP'), ('Space', 'NNP'), ('Telescope', 'NNP'), (',', ','), ('and', 'CC'), ('the', 'DT'), ('Great', 'NNP'), ('Observatories', 'NNPS'), ('and', 'CC'), ('associated', 'VBN'), ('programs', 'NNS'), ('.', '.')]\n"
     ]
    }
   ],
   "source": [
    "print(tags)"
   ]
  },
  {
   "cell_type": "markdown",
   "id": "d0509617",
   "metadata": {},
   "source": [
    "## 2"
   ]
  },
  {
   "cell_type": "code",
   "execution_count": 9,
   "id": "4d472d8a",
   "metadata": {},
   "outputs": [],
   "source": [
    "from nltk.tokenize import RegexpTokenizer\n",
    "tokenizer = RegexpTokenizer(r'\\w+')\n",
    "a = tokenizer.tokenize(data)"
   ]
  },
  {
   "cell_type": "code",
   "execution_count": 11,
   "id": "83ff9a1a",
   "metadata": {},
   "outputs": [
    {
     "data": {
      "text/plain": [
       "'The National Aeronautics and Space Administration NASA ˈnæsə is an independent agency of the U S federal government responsible for the civil space program aeronautics research and space research NASA was established in 1958 succeeding the National Advisory Committee for Aeronautics NACA to give the U S space development effort a distinctly civilian orientation emphasizing peaceful applications in space science 4 5 6 NASA has since led most American space exploration including Project Mercury Project Gemini the 1968 1972 Apollo Moon landing missions the Skylab space station and the Space Shuttle NASA supports the International Space Station and oversees the development of the Orion spacecraft and the Space Launch System for the crewed lunar Artemis program Commercial Crew spacecraft and the planned Lunar Gateway space station The agency is also responsible for the Launch Services Program which provides oversight of launch operations and countdown management for uncrewed NASA launches NASA s science is focused on better understanding Earth through the Earth Observing System 7 advancing heliophysics through the efforts of the Science Mission Directorate s Heliophysics Research Program 8 exploring bodies throughout the Solar System with advanced robotic spacecraft such as New Horizons and planetary rovers such as Perseverance 9 and researching astrophysics topics such as the Big Bang through the James Webb Space Telescope and the Great Observatories and associated programs'"
      ]
     },
     "execution_count": 11,
     "metadata": {},
     "output_type": "execute_result"
    }
   ],
   "source": [
    "\" \".join(a)"
   ]
  },
  {
   "cell_type": "markdown",
   "id": "8791c5e2",
   "metadata": {},
   "source": [
    "2nd method"
   ]
  },
  {
   "cell_type": "code",
   "execution_count": 13,
   "id": "8b5eae6d",
   "metadata": {},
   "outputs": [
    {
     "data": {
      "text/plain": [
       "'The National Aeronautics and Space Administration NASA is an independent agency of the federal government responsible for the civil space program aeronautics research and space research NASA was established in succeeding the National Advisory Committee for Aeronautics NACA to give the space development effort a distinctly civilian orientation emphasizing peaceful applications in space science NASA has since led most American space exploration including Project Mercury Project Gemini the Apollo Moon landing missions the Skylab space station and the Space Shuttle NASA supports the International Space Station and oversees the development of the Orion spacecraft and the Space Launch System for the crewed lunar Artemis program Commercial Crew spacecraft and the planned Lunar Gateway space station The agency is also responsible for the Launch Services Program which provides oversight of launch operations and countdown management for uncrewed NASA science is focused on better understanding Earth through the Earth Observing System advancing heliophysics through the efforts of the Science Mission Directorate Heliophysics Research Program exploring bodies throughout the Solar System with advanced robotic spacecraft such as New Horizons and planetary rovers such as Perseverance and researching astrophysics topics such as the Big Bang through the James Webb Space Telescope and the Great Observatories and associated programs'"
      ]
     },
     "execution_count": 13,
     "metadata": {},
     "output_type": "execute_result"
    }
   ],
   "source": [
    "a=[]\n",
    "for word in tokens:\n",
    "    if word.isalpha():\n",
    "        a.append(word)\n",
    "\" \".join(a)"
   ]
  },
  {
   "cell_type": "markdown",
   "id": "8988c08e",
   "metadata": {},
   "source": [
    "## 3"
   ]
  },
  {
   "cell_type": "code",
   "execution_count": 14,
   "id": "365594c5",
   "metadata": {},
   "outputs": [],
   "source": [
    "from nltk.corpus import stopwords"
   ]
  },
  {
   "cell_type": "code",
   "execution_count": 18,
   "id": "caf8bf43",
   "metadata": {},
   "outputs": [
    {
     "data": {
      "text/plain": [
       "\"National Aeronautics Space Administration ( NASA /ˈnæsə/ ) independent agency U.S. federal government responsible civil space program , aeronautics research , space research . NASA established 1958 , succeeding National Advisory Committee Aeronautics ( NACA ) , give U.S. space development effort distinctly civilian orientation , emphasizing peaceful applications space science . [ 4 ] [ 5 ] [ 6 ] NASA since led American space exploration , including Project Mercury , Project Gemini , 1968–1972 Apollo Moon landing missions , Skylab space station , Space Shuttle . NASA supports International Space Station oversees development Orion spacecraft Space Launch System crewed lunar Artemis program , Commercial Crew spacecraft , planned Lunar Gateway space station . agency also responsible Launch Services Program , provides oversight launch operations countdown management uncrewed NASA launches.NASA 's science focused better understanding Earth Earth Observing System ; [ 7 ] advancing heliophysics efforts Science Mission Directorate 's Heliophysics Research Program ; [ 8 ] exploring bodies throughout Solar System advanced robotic spacecraft New Horizons planetary rovers Perseverance ; [ 9 ] researching astrophysics topics , Big Bang , James Webb Space Telescope , Great Observatories associated programs .\""
      ]
     },
     "execution_count": 18,
     "metadata": {},
     "output_type": "execute_result"
    }
   ],
   "source": [
    "stopWords = set(stopwords.words('english'))\n",
    "words = word_tokenize(data)\n",
    "wordsFiltered = []\n",
    "\n",
    "for w in tokens:\n",
    "    if w.lower() not in stopWords:\n",
    "        wordsFiltered.append(w)\n",
    "\n",
    "\" \".join(wordsFiltered)"
   ]
  },
  {
   "cell_type": "markdown",
   "id": "344250e0",
   "metadata": {},
   "source": [
    "## 4"
   ]
  },
  {
   "cell_type": "code",
   "execution_count": 20,
   "id": "87acf59d",
   "metadata": {
    "scrolled": true
   },
   "outputs": [
    {
     "data": {
      "text/plain": [
       "['National',\n",
       " 'Aeronautics',\n",
       " 'Space',\n",
       " 'Administration',\n",
       " 'NASA',\n",
       " 'agency',\n",
       " 'government',\n",
       " 'space',\n",
       " 'program',\n",
       " 'aeronautics',\n",
       " 'research',\n",
       " 'space',\n",
       " 'research',\n",
       " 'NASA',\n",
       " 'National',\n",
       " 'Advisory',\n",
       " 'Committee',\n",
       " 'Aeronautics',\n",
       " 'NACA',\n",
       " 'space',\n",
       " 'development',\n",
       " 'effort',\n",
       " 'orientation',\n",
       " 'applications',\n",
       " 'space',\n",
       " 'science',\n",
       " 'NASA',\n",
       " 'space',\n",
       " 'exploration',\n",
       " 'Project',\n",
       " 'Mercury',\n",
       " 'Project',\n",
       " 'Gemini',\n",
       " 'Apollo',\n",
       " 'Moon',\n",
       " 'missions',\n",
       " 'Skylab',\n",
       " 'space',\n",
       " 'station',\n",
       " 'Space',\n",
       " 'Shuttle',\n",
       " 'NASA',\n",
       " 'International',\n",
       " 'Space',\n",
       " 'Station',\n",
       " 'development',\n",
       " 'Orion',\n",
       " 'spacecraft',\n",
       " 'Space',\n",
       " 'Launch',\n",
       " 'System',\n",
       " 'Artemis',\n",
       " 'program',\n",
       " 'Commercial',\n",
       " 'Crew',\n",
       " 'spacecraft',\n",
       " 'Lunar',\n",
       " 'Gateway',\n",
       " 'space',\n",
       " 'station',\n",
       " 'agency',\n",
       " 'Launch',\n",
       " 'Services',\n",
       " 'Program',\n",
       " 'oversight',\n",
       " 'operations',\n",
       " 'management',\n",
       " 'NASA',\n",
       " 'science',\n",
       " 'understanding',\n",
       " 'Earth',\n",
       " 'Earth',\n",
       " 'Observing',\n",
       " 'System',\n",
       " 'heliophysics',\n",
       " 'efforts',\n",
       " 'Science',\n",
       " 'Mission',\n",
       " 'Directorate',\n",
       " 'Heliophysics',\n",
       " 'Research',\n",
       " 'Program',\n",
       " 'bodies',\n",
       " 'Solar',\n",
       " 'System',\n",
       " 'spacecraft',\n",
       " 'New',\n",
       " 'Horizons',\n",
       " 'rovers',\n",
       " 'Perseverance',\n",
       " 'astrophysics',\n",
       " 'topics',\n",
       " 'Big',\n",
       " 'Bang',\n",
       " 'James',\n",
       " 'Webb',\n",
       " 'Space',\n",
       " 'Telescope',\n",
       " 'Great',\n",
       " 'Observatories',\n",
       " 'programs']"
      ]
     },
     "execution_count": 20,
     "metadata": {},
     "output_type": "execute_result"
    }
   ],
   "source": [
    "a=[]\n",
    "for i,j in tags :\n",
    "    if j.startswith('N') and i.isalpha():\n",
    "        a.append(i)\n",
    "a"
   ]
  },
  {
   "cell_type": "code",
   "execution_count": 24,
   "id": "f8516d82",
   "metadata": {},
   "outputs": [
    {
     "ename": "ModuleNotFoundError",
     "evalue": "No module named 'polyglot'",
     "output_type": "error",
     "traceback": [
      "\u001b[1;31m---------------------------------------------------------------------------\u001b[0m",
      "\u001b[1;31mModuleNotFoundError\u001b[0m                       Traceback (most recent call last)",
      "Input \u001b[1;32mIn [24]\u001b[0m, in \u001b[0;36m<cell line: 1>\u001b[1;34m()\u001b[0m\n\u001b[1;32m----> 1\u001b[0m \u001b[38;5;28;01mfrom\u001b[39;00m \u001b[38;5;21;01mpolyglot\u001b[39;00m\u001b[38;5;21;01m.\u001b[39;00m\u001b[38;5;21;01mtext\u001b[39;00m \u001b[38;5;28;01mimport\u001b[39;00m Text, Word\n",
      "\u001b[1;31mModuleNotFoundError\u001b[0m: No module named 'polyglot'"
     ]
    }
   ],
   "source": [
    "from polyglot.text import Text, Word"
   ]
  },
  {
   "cell_type": "code",
   "execution_count": 23,
   "id": "908d26d7",
   "metadata": {},
   "outputs": [
    {
     "name": "stdout",
     "output_type": "stream",
     "text": [
      "Couldn't find program: 'bash'\n"
     ]
    }
   ],
   "source": [
    "%%bash\n",
    "polyglot download morph2.en morph2.ar"
   ]
  },
  {
   "cell_type": "code",
   "execution_count": null,
   "id": "42f41cb1",
   "metadata": {},
   "outputs": [],
   "source": [
    "for i in a:\n",
    "    w = Word(w, language=\"en\")\n",
    "    print((w,\"/t,/t\", w.morphemes))"
   ]
  },
  {
   "cell_type": "code",
   "execution_count": 26,
   "id": "45b4098f",
   "metadata": {},
   "outputs": [],
   "source": [
    "allWordDist = nltk.FreqDist(w.lower() for w in tokens)\n",
    "\n",
    "stopwords = nltk.corpus.stopwords.words('english')\n",
    "allWordExceptStopDist = nltk.FreqDist(w.lower() for w in tokens if w not in stopwords) "
   ]
  },
  {
   "cell_type": "code",
   "execution_count": 32,
   "id": "e3c31ebb",
   "metadata": {},
   "outputs": [
    {
     "data": {
      "text/plain": [
       "nltk.probability.FreqDist"
      ]
     },
     "execution_count": 32,
     "metadata": {},
     "output_type": "execute_result"
    }
   ],
   "source": [
    "\n",
    "type(allWordDist)"
   ]
  },
  {
   "cell_type": "code",
   "execution_count": 38,
   "id": "5b05191a",
   "metadata": {},
   "outputs": [
    {
     "name": "stdout",
     "output_type": "stream",
     "text": [
      "e\n"
     ]
    },
    {
     "ename": "ValueError",
     "evalue": "not enough values to unpack (expected 3, got 1)",
     "output_type": "error",
     "traceback": [
      "\u001b[1;31m---------------------------------------------------------------------------\u001b[0m",
      "\u001b[1;31mValueError\u001b[0m                                Traceback (most recent call last)",
      "Input \u001b[1;32mIn [38]\u001b[0m, in \u001b[0;36m<cell line: 1>\u001b[1;34m()\u001b[0m\n\u001b[1;32m----> 1\u001b[0m \u001b[38;5;28;01mfor\u001b[39;00m i , j,k \u001b[38;5;129;01min\u001b[39;00m  allWordDist:\n\u001b[0;32m      2\u001b[0m     \u001b[38;5;28mprint\u001b[39m(k)\n",
      "\u001b[1;31mValueError\u001b[0m: not enough values to unpack (expected 3, got 1)"
     ]
    }
   ],
   "source": []
  },
  {
   "cell_type": "code",
   "execution_count": null,
   "id": "af845394",
   "metadata": {},
   "outputs": [],
   "source": []
  },
  {
   "cell_type": "code",
   "execution_count": null,
   "id": "52c3418f",
   "metadata": {},
   "outputs": [],
   "source": []
  }
 ],
 "metadata": {
  "kernelspec": {
   "display_name": "Python 3 (ipykernel)",
   "language": "python",
   "name": "python3"
  },
  "language_info": {
   "codemirror_mode": {
    "name": "ipython",
    "version": 3
   },
   "file_extension": ".py",
   "mimetype": "text/x-python",
   "name": "python",
   "nbconvert_exporter": "python",
   "pygments_lexer": "ipython3",
   "version": "3.9.12"
  }
 },
 "nbformat": 4,
 "nbformat_minor": 5
}
