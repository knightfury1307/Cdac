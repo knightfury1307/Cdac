{
 "cells": [
  {
   "cell_type": "code",
   "execution_count": 23,
   "id": "20d2dcea",
   "metadata": {},
   "outputs": [
    {
     "name": "stdout",
     "output_type": "stream",
     "text": [
      "Enter the number of days of month:28\n",
      "Enter the first day of month 0-monday, 1-tuesday ......:2\n",
      "Mo Tu We Th Fr Sa Su\n",
      "       1  2  3  4  5  \n",
      " 6  7  8  9 10 11 12 \n",
      " 13 14 15 16 17 18 19 \n",
      " 20 21 22 23 24 25 26 \n",
      " 27 28\n"
     ]
    }
   ],
   "source": [
    "num =int(input(\"Enter the number of days of month:\"))\n",
    "day = int(input(\"Enter the first day of month 0-monday, 1-tuesday ......:\"))\n",
    "cal=[]\n",
    "for i in range(day):\n",
    "    cal.append(\"  \")\n",
    "days =['Mo','Tu','We','Th','Fr','Sa','Su']\n",
    "for i in range (1,num+1):\n",
    "    if i//10 == 0:\n",
    "        cal.append(\"\")\n",
    "    if(((i+day-1)%7)==0):\n",
    "        cal.append('\\n')\n",
    "        #print(\"a\")\n",
    "    cal.append(str(i))\n",
    "print(\" \".join(days))\n",
    "print(\" \".join(cal))"
   ]
  },
  {
   "cell_type": "code",
   "execution_count": 28,
   "id": "eac601c4",
   "metadata": {
    "scrolled": true
   },
   "outputs": [
    {
     "name": "stdout",
     "output_type": "stream",
     "text": [
      "Enter a list of number, press q to stop:5\n",
      "Enter a list of number, press q to stop:7\n",
      "Enter a list of number, press q to stop:8\n",
      "Enter a list of number, press q to stop:q\n",
      "*****\n",
      "*******\n",
      "********\n"
     ]
    }
   ],
   "source": [
    "def histogram(a):\n",
    "    for i in a :\n",
    "        print(\"*\"*i)\n",
    "ls =[]\n",
    "ans = int(input(\"Enter a list of number, press q to stop:\"))\n",
    "while ans !='q':\n",
    "    ls.append(int(ans))\n",
    "    ans = input(\"Enter a list of number, press q to stop:\")\n",
    "histogram(ls)    \n"
   ]
  },
  {
   "cell_type": "code",
   "execution_count": null,
   "id": "4b5b6652",
   "metadata": {},
   "outputs": [],
   "source": [
    "s = input(\"Enter a string to find palindrome:\")\n",
    "if"
   ]
  }
 ],
 "metadata": {
  "kernelspec": {
   "display_name": "Python 3 (ipykernel)",
   "language": "python",
   "name": "python3"
  },
  "language_info": {
   "codemirror_mode": {
    "name": "ipython",
    "version": 3
   },
   "file_extension": ".py",
   "mimetype": "text/x-python",
   "name": "python",
   "nbconvert_exporter": "python",
   "pygments_lexer": "ipython3",
   "version": "3.9.12"
  }
 },
 "nbformat": 4,
 "nbformat_minor": 5
}
