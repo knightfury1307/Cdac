{
 "cells": [
  {
   "cell_type": "markdown",
   "id": "11ed5565",
   "metadata": {},
   "source": [
    "# Q.1 \n",
    "80% of people who purchase pet insurance are women.  If 9 pet insurance owners are randomly selected, find the probability that exactly 6 are women.\n"
   ]
  },
  {
   "cell_type": "code",
   "execution_count": 3,
   "id": "2dd762bf",
   "metadata": {},
   "outputs": [],
   "source": [
    "def fact(n):\n",
    "    count=1\n",
    "    for i in range(2,n+1):\n",
    "        count=count*i\n",
    "    return count"
   ]
  },
  {
   "cell_type": "code",
   "execution_count": 7,
   "id": "1a712470",
   "metadata": {},
   "outputs": [],
   "source": [
    "def ncr(n,r):\n",
    "    return fact(n)/(fact(n-r)*fact(r))\n"
   ]
  },
  {
   "cell_type": "code",
   "execution_count": 8,
   "id": "22ea4ef5",
   "metadata": {},
   "outputs": [
    {
     "data": {
      "text/plain": [
       "0.1761607680000001"
      ]
     },
     "execution_count": 8,
     "metadata": {},
     "output_type": "execute_result"
    }
   ],
   "source": [
    "n=9\n",
    "r=6\n",
    "prob = .8\n",
    "p = ncr(9,6)*.8**6 *.2**3\n",
    "p"
   ]
  },
  {
   "cell_type": "markdown",
   "id": "4e8c71ce",
   "metadata": {},
   "source": [
    "# Q.2\n",
    "A life insurance salesman sells on the average 3 life insurance policies per week. Calculate the probability that in a given week he will sell\n",
    "(a) Some policies\n",
    "(b) 2 or more policies but less than 5 policies\n",
    "(c) Assuming that there are 5 working days per week, what is the probability that in a given day he will sell one policy?\n"
   ]
  },
  {
   "cell_type": "code",
   "execution_count": 9,
   "id": "011297d0",
   "metadata": {},
   "outputs": [],
   "source": [
    "def pro( lam , x):\n",
    "    return (lam**x*2.718**(-lam))/fact(x)"
   ]
  },
  {
   "cell_type": "code",
   "execution_count": 11,
   "id": "35dcaaa4",
   "metadata": {},
   "outputs": [
    {
     "data": {
      "text/plain": [
       "0.20922305883702774"
      ]
     },
     "execution_count": 11,
     "metadata": {},
     "output_type": "execute_result"
    }
   ],
   "source": [
    "#a \n",
    "pro(3,3)"
   ]
  },
  {
   "cell_type": "code",
   "execution_count": 13,
   "id": "5f9de7cc",
   "metadata": {},
   "outputs": [
    {
     "data": {
      "text/plain": [
       "0.5753634118018263"
      ]
     },
     "execution_count": 13,
     "metadata": {},
     "output_type": "execute_result"
    }
   ],
   "source": [
    "prob = pro(3,2)+pro(3,3)+pro(3,4)\n",
    "prob"
   ]
  },
  {
   "cell_type": "code",
   "execution_count": 12,
   "id": "5ccc262d",
   "metadata": {},
   "outputs": [
    {
     "data": {
      "text/plain": [
       "0.09415037647666248"
      ]
     },
     "execution_count": 12,
     "metadata": {},
     "output_type": "execute_result"
    }
   ],
   "source": [
    "#c\n",
    "pro(3,5)"
   ]
  },
  {
   "cell_type": "markdown",
   "id": "316e1f8a",
   "metadata": {},
   "source": [
    "# Q.3\n",
    "Twenty sheets of aluminum alloy were examined for surface flaws. The frequency of the number of sheets with a given number of flaws per sheet was as follows:\n",
    "\n",
    "What is the probability of finding a sheet chosen at random which contains 3 or more surface flaws?\n"
   ]
  },
  {
   "cell_type": "code",
   "execution_count": null,
   "id": "a7e0de27",
   "metadata": {},
   "outputs": [],
   "source": [
    "8/20"
   ]
  },
  {
   "cell_type": "markdown",
   "id": "ac4f56d2",
   "metadata": {},
   "source": [
    "# Q.4\n",
    "Write a Python program without using any libraries to find the following:\n",
    "Normally, we get two extremely rainy days in the month of July. What is the probability of getting 7 rainy days this July?\n"
   ]
  },
  {
   "cell_type": "code",
   "execution_count": 10,
   "id": "c219c9be",
   "metadata": {},
   "outputs": [
    {
     "data": {
      "text/plain": [
       "0.00328380572346116"
      ]
     },
     "execution_count": 10,
     "metadata": {},
     "output_type": "execute_result"
    }
   ],
   "source": [
    "p = pro(2,7)\n",
    "p"
   ]
  },
  {
   "cell_type": "code",
   "execution_count": null,
   "id": "2ce4fbc1",
   "metadata": {},
   "outputs": [],
   "source": []
  }
 ],
 "metadata": {
  "kernelspec": {
   "display_name": "Python 3 (ipykernel)",
   "language": "python",
   "name": "python3"
  },
  "language_info": {
   "codemirror_mode": {
    "name": "ipython",
    "version": 3
   },
   "file_extension": ".py",
   "mimetype": "text/x-python",
   "name": "python",
   "nbconvert_exporter": "python",
   "pygments_lexer": "ipython3",
   "version": "3.9.12"
  }
 },
 "nbformat": 4,
 "nbformat_minor": 5
}
